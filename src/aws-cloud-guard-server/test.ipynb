{
 "cells": [
  {
   "cell_type": "code",
   "execution_count": null,
   "metadata": {},
   "outputs": [
    {
     "ename": "",
     "evalue": "",
     "output_type": "error",
     "traceback": [
      "\u001b[1;31mRunning cells with '.venv (Python 3.12.2)' requires the ipykernel package.\n",
      "\u001b[1;31mRun the following command to install 'ipykernel' into the Python environment. \n",
      "\u001b[1;31mCommand: '/Users/madhurpt/Desktop/AWS_CloudGuardMCP/.venv/bin/python -m pip install ipykernel -U --force-reinstall'"
     ]
    }
   ],
   "source": [
    "import boto3\n",
    "from botocore.exceptions import ClientError\n",
    "def get_cross_account_client(service: str, account_id: str, role_name: str):\n",
    "    \"\"\"\n",
    "    Creates a boto3 client for the specified service using cross-account role assumption.\n",
    "    \n",
    "    Args:\n",
    "        service (str): AWS service name (e.g., 'logs', 'cloudwatch')\n",
    "        account_id (str): AWS account ID to access\n",
    "        role_name (str): IAM role name to assume\n",
    "        \n",
    "    Returns:\n",
    "        boto3.client: Service client with assumed role credentials\n",
    "    \"\"\"\n",
    "    try:\n",
    "        # Create STS client\n",
    "        sts_client = boto3.client('sts')\n",
    "        \n",
    "        # Define the role ARN\n",
    "        role_arn = f\"arn:aws:iam::{account_id}:role/{role_name}\"\n",
    "        \n",
    "        # Assume the role\n",
    "        assumed_role = sts_client.assume_role(\n",
    "            RoleArn=role_arn,\n",
    "            RoleSessionName=f\"CrossAccount{service.capitalize()}Session\"\n",
    "        )\n",
    "        \n",
    "        # Extract temporary credentials\n",
    "        credentials = assumed_role['Credentials']\n",
    "        \n",
    "        # Create client with assumed role credentials\n",
    "        client = boto3.client(\n",
    "            service,\n",
    "            aws_access_key_id=credentials['AccessKeyId'],\n",
    "            aws_secret_access_key=credentials['SecretAccessKey'],\n",
    "            aws_session_token=credentials['SessionToken']\n",
    "        )\n",
    "        \n",
    "        print(f\"Successfully created cross-account client for {service} in account {account_id}\")\n",
    "        return client\n",
    "        \n",
    "    except Exception as e:\n",
    "        print(f\"Error creating cross-account client for {service}: {e}\")\n",
    "        raise e"
   ]
  },
  {
   "cell_type": "code",
   "execution_count": null,
   "metadata": {},
   "outputs": [],
   "source": []
  }
 ],
 "metadata": {
  "kernelspec": {
   "display_name": ".venv",
   "language": "python",
   "name": "python3"
  },
  "language_info": {
   "name": "python",
   "version": "3.12.2"
  }
 },
 "nbformat": 4,
 "nbformat_minor": 2
}
